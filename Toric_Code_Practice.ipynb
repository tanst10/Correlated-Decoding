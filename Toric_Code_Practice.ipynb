{
 "cells": [
  {
   "cell_type": "code",
   "execution_count": 218,
   "id": "695d9eca-969f-4d89-aebb-3a5e698b80fd",
   "metadata": {},
   "outputs": [],
   "source": [
    "import numpy as np\n",
    "import matplotlib.pyplot as plt\n",
    "import pymatching\n",
    "from pymatching import Matching\n",
    "import networkx as nx\n",
    "from ldpc.codes import ring_code, rep_code\n",
    "from ldpc.code_util import *\n",
    "from ldpc.mod2 import *\n",
    "from bposd.css import css_code\n",
    "from bposd.css_decode_sim import css_decode_sim\n",
    "from bposd.hgp import hgp\n",
    "from bposd.stab import stab_code, gf2_to_gf4\n",
    "from bposd import bposd_decoder\n",
    "from ldpc.code_util import compute_code_distance"
   ]
  },
  {
   "cell_type": "code",
   "execution_count": 60,
   "id": "f8dcebf6-7809-4b34-85b0-166215882eed",
   "metadata": {},
   "outputs": [
    {
     "name": "stdout",
     "output_type": "stream",
     "text": [
      "<Unnamed CSS code>, (2,4)-[[18,2,3]]\n",
      " -Block dimensions: Pass\n",
      " -PCMs commute hz@hx.T==0: Pass\n",
      " -PCMs commute hx@hz.T==0: Pass\n",
      " -lx \\in ker{hz} AND lz \\in ker{hx}: Pass\n",
      " -lx and lz anticommute: Pass\n",
      " -<Unnamed CSS code> is a valid CSS code w/ params (2,4)-[[18,2,3]]\n"
     ]
    },
    {
     "data": {
      "text/plain": [
       "True"
      ]
     },
     "execution_count": 60,
     "metadata": {},
     "output_type": "execute_result"
    }
   ],
   "source": [
    "L = 3\n",
    "ring = ring_code(L)\n",
    "toric_code = hgp(ring, ring, compute_distance=True)\n",
    "toric_code.test()"
   ]
  },
  {
   "cell_type": "code",
   "execution_count": 13,
   "id": "9fe9c229-9a12-4b7b-a2d1-ae2b6be7b568",
   "metadata": {},
   "outputs": [
    {
     "name": "stdout",
     "output_type": "stream",
     "text": [
      "<Unnamed CSS code>, (2,4)-[[12,2,2]]\n",
      " -Block dimensions: Pass\n",
      " -PCMs commute hz@hx.T==0: Pass\n",
      " -PCMs commute hx@hz.T==0: Pass\n",
      " -lx \\in ker{hz} AND lz \\in ker{hx}: Pass\n",
      " -lx and lz anticommute: Pass\n",
      " -<Unnamed CSS code> is a valid CSS code w/ params (2,4)-[[12,2,2]]\n"
     ]
    },
    {
     "data": {
      "text/plain": [
       "True"
      ]
     },
     "execution_count": 13,
     "metadata": {},
     "output_type": "execute_result"
    }
   ],
   "source": [
    "#Here I try to reproduce the toric code in the paper\n",
    "hx = ring_code(3)\n",
    "hz = ring_code(2)\n",
    "toric_code_2 = hgp(hx, hz, compute_distance=True)\n",
    "toric_code_2.test()"
   ]
  },
  {
   "cell_type": "code",
   "execution_count": 69,
   "id": "43d2bce3-c6f1-4da7-b633-b82b8f0d989d",
   "metadata": {},
   "outputs": [
    {
     "data": {
      "text/plain": [
       "array([[0, 0, 0, 0, 1, 1, 0, 0, 0, 0, 0, 0],\n",
       "       [0, 0, 0, 0, 0, 0, 1, 0, 1, 0, 1, 0]])"
      ]
     },
     "execution_count": 69,
     "metadata": {},
     "output_type": "execute_result"
    }
   ],
   "source": [
    "toric_code_2.lx #The logical X operator"
   ]
  },
  {
   "cell_type": "code",
   "execution_count": 70,
   "id": "736ed77d-0265-43c6-bd1b-d55571d0775e",
   "metadata": {},
   "outputs": [
    {
     "data": {
      "text/plain": [
       "array([[0, 1, 0, 1, 0, 1, 0, 0, 0, 0, 0, 0],\n",
       "       [0, 0, 0, 0, 0, 0, 1, 1, 0, 0, 0, 0]])"
      ]
     },
     "execution_count": 70,
     "metadata": {},
     "output_type": "execute_result"
    }
   ],
   "source": [
    "toric_code_2.lz #The logical Z operator"
   ]
  },
  {
   "cell_type": "code",
   "execution_count": 71,
   "id": "f17ad8b2-1f41-4d6a-8845-4b47c3b991af",
   "metadata": {},
   "outputs": [
    {
     "name": "stdout",
     "output_type": "stream",
     "text": [
      "(array([4, 5]),)\n",
      "(array([ 6,  8, 10]),)\n"
     ]
    }
   ],
   "source": [
    "print(np.where(toric_code_2.lx[0]==1)) #The logical X qubits -- the X applying on the two canonical loops\n",
    "print(np.where(toric_code_2.lx[1]==1)) #Note that the counting starts at 0, see the figure 2 in Bias-Tailored\n",
    "#The logical X1 is at (5,6) and X2 is at (7,9,11)"
   ]
  },
  {
   "cell_type": "code",
   "execution_count": 72,
   "id": "9999bfdb-90a0-4601-a790-01ce2c1ef71e",
   "metadata": {},
   "outputs": [
    {
     "name": "stdout",
     "output_type": "stream",
     "text": [
      "(array([1, 3, 5]),)\n",
      "(array([6, 7]),)\n"
     ]
    }
   ],
   "source": [
    "print(np.where(toric_code_2.lz[0]==1)) #The logical Z qubits -- the Z applying on the two canonical loops\n",
    "print(np.where(toric_code_2.lz[1]==1))\n",
    "#The logical Z1 is at (2,4,6) and X2 is at (7,8)"
   ]
  },
  {
   "cell_type": "code",
   "execution_count": 84,
   "id": "c9179bfd-6997-4a9d-8692-2432eb7359d4",
   "metadata": {},
   "outputs": [
    {
     "data": {
      "text/plain": [
       "array([[1, 0, 1, 0, 0, 0, 1, 1, 0, 0, 0, 0],\n",
       "       [0, 1, 0, 1, 0, 0, 1, 1, 0, 0, 0, 0],\n",
       "       [0, 0, 1, 0, 1, 0, 0, 0, 1, 1, 0, 0],\n",
       "       [0, 0, 0, 1, 0, 1, 0, 0, 1, 1, 0, 0],\n",
       "       [1, 0, 0, 0, 1, 0, 0, 0, 0, 0, 1, 1],\n",
       "       [0, 1, 0, 0, 0, 1, 0, 0, 0, 0, 1, 1]])"
      ]
     },
     "execution_count": 84,
     "metadata": {},
     "output_type": "execute_result"
    }
   ],
   "source": [
    "toric_code_2.hx #This is the same as H1 otimes In2 combining with Im1 otimes H2T"
   ]
  },
  {
   "cell_type": "code",
   "execution_count": 85,
   "id": "f9f5df5d-cb63-4367-a983-6189a496e46b",
   "metadata": {},
   "outputs": [
    {
     "name": "stdout",
     "output_type": "stream",
     "text": [
      "[[1 0 1 0 0 0]\n",
      " [0 1 0 1 0 0]\n",
      " [0 0 1 0 1 0]\n",
      " [0 0 0 1 0 1]\n",
      " [1 0 0 0 1 0]\n",
      " [0 1 0 0 0 1]]\n"
     ]
    }
   ],
   "source": [
    "print(np.kron(hx,np.identity(np.shape(hz)[1],dtype=int)))"
   ]
  },
  {
   "cell_type": "code",
   "execution_count": 87,
   "id": "f1eeb8b1-6118-476c-8b5e-ac9f6d433aa6",
   "metadata": {},
   "outputs": [
    {
     "name": "stdout",
     "output_type": "stream",
     "text": [
      "(array([0, 2, 6, 7]),)\n"
     ]
    }
   ],
   "source": [
    "print(np.where(toric_code_2.hx[0]==1))"
   ]
  },
  {
   "cell_type": "code",
   "execution_count": 102,
   "id": "9a842961-1bd8-44dc-8f94-89bce9dd63d4",
   "metadata": {},
   "outputs": [],
   "source": [
    "#This tells us the adjacency matrix of the X checks\n",
    "adj_matrix_X = (np.dot(toric_code_2.hx, toric_code_2.hx.T) > 0).astype(int) #Here we transform the logical 0,1 to int 0,1\n",
    "np.fill_diagonal(adj_matrix_X, 0)"
   ]
  },
  {
   "cell_type": "code",
   "execution_count": 103,
   "id": "2c1e90d5-218f-452e-91cb-c2e30d2de28b",
   "metadata": {},
   "outputs": [
    {
     "data": {
      "text/plain": [
       "array([[0, 1, 1, 0, 1, 0],\n",
       "       [1, 0, 0, 1, 0, 1],\n",
       "       [1, 0, 0, 1, 1, 0],\n",
       "       [0, 1, 1, 0, 0, 1],\n",
       "       [1, 0, 1, 0, 0, 1],\n",
       "       [0, 1, 0, 1, 1, 0]])"
      ]
     },
     "execution_count": 103,
     "metadata": {},
     "output_type": "execute_result"
    }
   ],
   "source": [
    "adj_matrix_X"
   ]
  },
  {
   "cell_type": "code",
   "execution_count": 104,
   "id": "b02f6679-0ae1-4a01-b607-8f2a7cec04b5",
   "metadata": {},
   "outputs": [
    {
     "data": {
      "text/plain": [
       "[(0, 4, {'fault_ids': {0}, 'weight': 1.0, 'error_probability': -1.0}),\n",
       " (1, 5, {'fault_ids': {1}, 'weight': 1.0, 'error_probability': -1.0}),\n",
       " (0, 2, {'fault_ids': {2}, 'weight': 1.0, 'error_probability': -1.0}),\n",
       " (1, 3, {'fault_ids': {3}, 'weight': 1.0, 'error_probability': -1.0}),\n",
       " (2, 4, {'fault_ids': {4}, 'weight': 1.0, 'error_probability': -1.0}),\n",
       " (3, 5, {'fault_ids': {5}, 'weight': 1.0, 'error_probability': -1.0}),\n",
       " (0, 1, {'fault_ids': {6}, 'weight': 1.0, 'error_probability': -1.0}),\n",
       " (2, 3, {'fault_ids': {8}, 'weight': 1.0, 'error_probability': -1.0}),\n",
       " (4, 5, {'fault_ids': {10}, 'weight': 1.0, 'error_probability': -1.0})]"
      ]
     },
     "execution_count": 104,
     "metadata": {},
     "output_type": "execute_result"
    }
   ],
   "source": [
    "#We can compare the adjacency matrix of X checks and the matching graph, they are the same\n",
    "#The errors happen on the edges\n",
    "match_x = pymatching.Matching(toric_code_2.hx)\n",
    "match_x.edges()"
   ]
  },
  {
   "cell_type": "code",
   "execution_count": 105,
   "id": "77b05be9-5828-480f-a4c3-675f2c8f534b",
   "metadata": {},
   "outputs": [
    {
     "data": {
      "text/plain": [
       "array([[0, 1, 1, 0, 1, 0],\n",
       "       [1, 0, 0, 1, 0, 1],\n",
       "       [1, 0, 0, 1, 1, 0],\n",
       "       [0, 1, 1, 0, 0, 1],\n",
       "       [1, 0, 1, 0, 0, 1],\n",
       "       [0, 1, 0, 1, 1, 0]])"
      ]
     },
     "execution_count": 105,
     "metadata": {},
     "output_type": "execute_result"
    }
   ],
   "source": [
    "#This tells us the adjacency matrix of the Z checks\n",
    "adj_matrix_Z = (np.dot(toric_code_2.hz, toric_code_2.hz.T) > 0).astype(int) #Here we transform the logical 0,1 to int 0,1\n",
    "np.fill_diagonal(adj_matrix_Z, 0)\n",
    "adj_matrix_Z"
   ]
  },
  {
   "cell_type": "code",
   "execution_count": 108,
   "id": "7cb438e6-2ca3-436d-9172-f30299b292c5",
   "metadata": {},
   "outputs": [
    {
     "data": {
      "text/plain": [
       "[(0, 1, {'fault_ids': {0}, 'weight': 1.0, 'error_probability': -1.0}),\n",
       " (2, 3, {'fault_ids': {2}, 'weight': 1.0, 'error_probability': -1.0}),\n",
       " (4, 5, {'fault_ids': {4}, 'weight': 1.0, 'error_probability': -1.0}),\n",
       " (0, 2, {'fault_ids': {6}, 'weight': 1.0, 'error_probability': -1.0}),\n",
       " (1, 3, {'fault_ids': {7}, 'weight': 1.0, 'error_probability': -1.0}),\n",
       " (2, 4, {'fault_ids': {8}, 'weight': 1.0, 'error_probability': -1.0}),\n",
       " (3, 5, {'fault_ids': {9}, 'weight': 1.0, 'error_probability': -1.0}),\n",
       " (0, 4, {'fault_ids': {10}, 'weight': 1.0, 'error_probability': -1.0}),\n",
       " (1, 5, {'fault_ids': {11}, 'weight': 1.0, 'error_probability': -1.0})]"
      ]
     },
     "execution_count": 108,
     "metadata": {},
     "output_type": "execute_result"
    }
   ],
   "source": [
    "match_z = pymatching.Matching(toric_code_2.hz)\n",
    "match_z.edges()"
   ]
  },
  {
   "cell_type": "code",
   "execution_count": 109,
   "id": "50b84c23-43dd-4129-a88c-7b06e6daf4e4",
   "metadata": {},
   "outputs": [],
   "source": [
    "GX = match_x.to_networkx()\n",
    "GZ = match_z.to_networkx()"
   ]
  },
  {
   "cell_type": "code",
   "execution_count": 143,
   "id": "867bc464-e3f6-43f3-b60b-17c1340bd4af",
   "metadata": {},
   "outputs": [
    {
     "data": {
      "image/png": "[encoded data removed]",
      "text/plain": [
       "<Figure size 432x288 with 1 Axes>"
      ]
     },
     "metadata": {},
     "output_type": "display_data"
    }
   ],
   "source": [
    "# The following code draw the X checks network and also the logical X1 and X2 operators\n",
    "nx.draw(GX,pos=nx.spring_layout(GX,seed=1),width=1.0, alpha=0.8, with_labels=True, font_weight='bold')\n",
    "# Here we know that each check only check three qubits, which is not good for a toric code, so we move"
   ]
  },
  {
   "cell_type": "code",
   "execution_count": 144,
   "id": "94a38688-58ee-4916-a62a-c248003c248d",
   "metadata": {},
   "outputs": [
    {
     "name": "stdout",
     "output_type": "stream",
     "text": [
      "<Unnamed CSS code>, (2,4)-[[18,2,3]]\n",
      " -Block dimensions: Pass\n",
      " -PCMs commute hz@hx.T==0: Pass\n",
      " -PCMs commute hx@hz.T==0: Pass\n",
      " -lx \\in ker{hz} AND lz \\in ker{hx}: Pass\n",
      " -lx and lz anticommute: Pass\n",
      " -<Unnamed CSS code> is a valid CSS code w/ params (2,4)-[[18,2,3]]\n"
     ]
    },
    {
     "data": {
      "text/plain": [
       "True"
      ]
     },
     "execution_count": 144,
     "metadata": {},
     "output_type": "execute_result"
    }
   ],
   "source": [
    "L = 3\n",
    "ring = ring_code(L)\n",
    "toric_code = hgp(ring, ring, compute_distance=True)\n",
    "toric_code.test()"
   ]
  },
  {
   "cell_type": "code",
   "execution_count": 145,
   "id": "dd39e703-60be-4448-8335-1f63e916a3ee",
   "metadata": {},
   "outputs": [
    {
     "data": {
      "text/plain": [
       "array([[0, 0, 0, 0, 0, 0, 1, 1, 1, 0, 0, 0, 0, 0, 0, 0, 0, 0],\n",
       "       [0, 0, 0, 0, 0, 0, 0, 0, 0, 1, 0, 0, 1, 0, 0, 1, 0, 0]])"
      ]
     },
     "execution_count": 145,
     "metadata": {},
     "output_type": "execute_result"
    }
   ],
   "source": [
    "toric_code.lx #The logical X operator"
   ]
  },
  {
   "cell_type": "code",
   "execution_count": 146,
   "id": "a4595e20-1a39-48b6-8aa0-e166a8123845",
   "metadata": {},
   "outputs": [
    {
     "data": {
      "text/plain": [
       "array([[0, 0, 1, 0, 0, 1, 0, 0, 1, 0, 0, 0, 0, 0, 0, 0, 0, 0],\n",
       "       [0, 0, 0, 0, 0, 0, 0, 0, 0, 1, 1, 1, 0, 0, 0, 0, 0, 0]])"
      ]
     },
     "execution_count": 146,
     "metadata": {},
     "output_type": "execute_result"
    }
   ],
   "source": [
    "toric_code.lz #The logical Z operator"
   ]
  },
  {
   "cell_type": "code",
   "execution_count": 147,
   "id": "2740c301-2c03-4e1a-8eb9-6741d2cbef1a",
   "metadata": {},
   "outputs": [
    {
     "data": {
      "text/plain": [
       "[(0, 6, {'fault_ids': {0}, 'weight': 1.0, 'error_probability': -1.0}),\n",
       " (1, 7, {'fault_ids': {1}, 'weight': 1.0, 'error_probability': -1.0}),\n",
       " (2, 8, {'fault_ids': {2}, 'weight': 1.0, 'error_probability': -1.0}),\n",
       " (0, 3, {'fault_ids': {3}, 'weight': 1.0, 'error_probability': -1.0}),\n",
       " (1, 4, {'fault_ids': {4}, 'weight': 1.0, 'error_probability': -1.0}),\n",
       " (2, 5, {'fault_ids': {5}, 'weight': 1.0, 'error_probability': -1.0}),\n",
       " (3, 6, {'fault_ids': {6}, 'weight': 1.0, 'error_probability': -1.0}),\n",
       " (4, 7, {'fault_ids': {7}, 'weight': 1.0, 'error_probability': -1.0}),\n",
       " (5, 8, {'fault_ids': {8}, 'weight': 1.0, 'error_probability': -1.0}),\n",
       " (0, 1, {'fault_ids': {9}, 'weight': 1.0, 'error_probability': -1.0}),\n",
       " (1, 2, {'fault_ids': {10}, 'weight': 1.0, 'error_probability': -1.0}),\n",
       " (0, 2, {'fault_ids': {11}, 'weight': 1.0, 'error_probability': -1.0}),\n",
       " (3, 4, {'fault_ids': {12}, 'weight': 1.0, 'error_probability': -1.0}),\n",
       " (4, 5, {'fault_ids': {13}, 'weight': 1.0, 'error_probability': -1.0}),\n",
       " (3, 5, {'fault_ids': {14}, 'weight': 1.0, 'error_probability': -1.0}),\n",
       " (6, 7, {'fault_ids': {15}, 'weight': 1.0, 'error_probability': -1.0}),\n",
       " (7, 8, {'fault_ids': {16}, 'weight': 1.0, 'error_probability': -1.0}),\n",
       " (6, 8, {'fault_ids': {17}, 'weight': 1.0, 'error_probability': -1.0})]"
      ]
     },
     "execution_count": 147,
     "metadata": {},
     "output_type": "execute_result"
    }
   ],
   "source": [
    "#We can compare the adjacency matrix of X checks and the matching graph, they are the same\n",
    "#The errors happen on the edges\n",
    "match_x = pymatching.Matching(toric_code.hx)\n",
    "match_x.edges()"
   ]
  },
  {
   "cell_type": "code",
   "execution_count": 148,
   "id": "e143afd5-8b9c-4d1c-9344-9a6bbd84f045",
   "metadata": {},
   "outputs": [
    {
     "data": {
      "text/plain": [
       "[(0, 2, {'fault_ids': {0}, 'weight': 1.0, 'error_probability': -1.0}),\n",
       " (0, 1, {'fault_ids': {1}, 'weight': 1.0, 'error_probability': -1.0}),\n",
       " (1, 2, {'fault_ids': {2}, 'weight': 1.0, 'error_probability': -1.0}),\n",
       " (3, 5, {'fault_ids': {3}, 'weight': 1.0, 'error_probability': -1.0}),\n",
       " (3, 4, {'fault_ids': {4}, 'weight': 1.0, 'error_probability': -1.0}),\n",
       " (4, 5, {'fault_ids': {5}, 'weight': 1.0, 'error_probability': -1.0}),\n",
       " (6, 8, {'fault_ids': {6}, 'weight': 1.0, 'error_probability': -1.0}),\n",
       " (6, 7, {'fault_ids': {7}, 'weight': 1.0, 'error_probability': -1.0}),\n",
       " (7, 8, {'fault_ids': {8}, 'weight': 1.0, 'error_probability': -1.0}),\n",
       " (0, 3, {'fault_ids': {9}, 'weight': 1.0, 'error_probability': -1.0}),\n",
       " (1, 4, {'fault_ids': {10}, 'weight': 1.0, 'error_probability': -1.0}),\n",
       " (2, 5, {'fault_ids': {11}, 'weight': 1.0, 'error_probability': -1.0}),\n",
       " (3, 6, {'fault_ids': {12}, 'weight': 1.0, 'error_probability': -1.0}),\n",
       " (4, 7, {'fault_ids': {13}, 'weight': 1.0, 'error_probability': -1.0}),\n",
       " (5, 8, {'fault_ids': {14}, 'weight': 1.0, 'error_probability': -1.0}),\n",
       " (0, 6, {'fault_ids': {15}, 'weight': 1.0, 'error_probability': -1.0}),\n",
       " (1, 7, {'fault_ids': {16}, 'weight': 1.0, 'error_probability': -1.0}),\n",
       " (2, 8, {'fault_ids': {17}, 'weight': 1.0, 'error_probability': -1.0})]"
      ]
     },
     "execution_count": 148,
     "metadata": {},
     "output_type": "execute_result"
    }
   ],
   "source": [
    "match_z = pymatching.Matching(toric_code.hz)\n",
    "match_z.edges()"
   ]
  },
  {
   "cell_type": "code",
   "execution_count": 156,
   "id": "2ff5f96f-d12e-4fe6-893c-780bc61ba70e",
   "metadata": {},
   "outputs": [
    {
     "data": {
      "text/plain": [
       "{'fault_ids': {0}, 'weight': 1.0, 'error_probability': -1.0}"
      ]
     },
     "execution_count": 156,
     "metadata": {},
     "output_type": "execute_result"
    }
   ],
   "source": [
    "match_x.edges()[0][2]"
   ]
  },
  {
   "cell_type": "code",
   "execution_count": 149,
   "id": "f11d4c22-7999-4889-90fc-65a884010480",
   "metadata": {},
   "outputs": [],
   "source": [
    "GX = match_x.to_networkx()\n",
    "GZ = match_z.to_networkx()"
   ]
  },
  {
   "cell_type": "code",
   "execution_count": 157,
   "id": "556750e9-8ece-4479-9a0f-2fe441cc5aae",
   "metadata": {},
   "outputs": [],
   "source": [
    "# The logical X1 operator\n",
    "edgelist_X1 = []\n",
    "for ind in np.where(toric_code.lx[0]==1)[0]:\n",
    "    edgelist_X1.append((match_x.edges()[ind][0],match_x.edges()[ind][1]))\n",
    "# The logical X2 operator\n",
    "edgelist_X2 = []\n",
    "for ind in np.where(toric_code.lx[1]==1)[0]:\n",
    "    edgelist_X2.append((match_x.edges()[ind][0],match_x.edges()[ind][1]))"
   ]
  },
  {
   "cell_type": "code",
   "execution_count": 165,
   "id": "58d56778-53e3-4441-9ffe-1a3907037406",
   "metadata": {},
   "outputs": [
    {
     "data": {
      "text/plain": [
       "<matplotlib.collections.LineCollection at 0x7fe8800f58e0>"
      ]
     },
     "execution_count": 165,
     "metadata": {},
     "output_type": "execute_result"
    },
    {
     "data": {
      "image/png": "[encoded data removed]",
      "text/plain": [
       "<Figure size 432x288 with 1 Axes>"
      ]
     },
     "metadata": {},
     "output_type": "display_data"
    }
   ],
   "source": [
    "# The following code draw the X checks network and also the logical X1 and X2 operators\n",
    "nx.draw(GX,pos=nx.spring_layout(GX,seed=1),width=1.0, alpha=0.7, with_labels=True, font_weight='bold')\n",
    "nx.draw_networkx_edges(GX,pos=nx.spring_layout(GX,seed=1),edgelist=edgelist_X1,width=4.0,alpha=0.5,edge_color=\"tab:red\")\n",
    "nx.draw_networkx_edges(GX,pos=nx.spring_layout(GX,seed=1),edgelist=edgelist_X2,width=4.0,alpha=0.5,edge_color=\"tab:blue\")"
   ]
  },
  {
   "cell_type": "code",
   "execution_count": 166,
   "id": "b7aeb7db-36fe-4b8d-a966-ba264fbcac14",
   "metadata": {},
   "outputs": [],
   "source": [
    "# The logical Z1 operator\n",
    "edgelist_Z1 = []\n",
    "for ind in np.where(toric_code.lz[0]==1)[0]:\n",
    "    edgelist_Z1.append((match_z.edges()[ind][0],match_z.edges()[ind][1]))\n",
    "# The logical Z2 operator\n",
    "edgelist_Z2 = []\n",
    "for ind in np.where(toric_code.lz[1]==1)[0]:\n",
    "    edgelist_Z2.append((match_z.edges()[ind][0],match_z.edges()[ind][1]))"
   ]
  },
  {
   "cell_type": "code",
   "execution_count": 167,
   "id": "85f8cfcb-9201-4a4a-a619-4a454b98d775",
   "metadata": {},
   "outputs": [
    {
     "data": {
      "text/plain": [
       "<matplotlib.collections.LineCollection at 0x7fe890193a00>"
      ]
     },
     "execution_count": 167,
     "metadata": {},
     "output_type": "execute_result"
    },
    {
     "data": {
      "image/png": "[encoded data removed]",
      "text/plain": [
       "<Figure size 432x288 with 1 Axes>"
      ]
     },
     "metadata": {},
     "output_type": "display_data"
    }
   ],
   "source": [
    "# The following code draw the Z checks network and also the logical Z1 and Z2 operators\n",
    "nx.draw(GZ,pos=nx.spring_layout(GZ,seed=1),width=1.0, alpha=0.7, with_labels=True, font_weight='bold')\n",
    "nx.draw_networkx_edges(GZ,pos=nx.spring_layout(GZ,seed=1),edgelist=edgelist_Z1,width=4.0,alpha=0.5,edge_color=\"tab:red\")\n",
    "nx.draw_networkx_edges(GZ,pos=nx.spring_layout(GZ,seed=1),edgelist=edgelist_Z2,width=4.0,alpha=0.5,edge_color=\"tab:blue\")"
   ]
  },
  {
   "cell_type": "code",
   "execution_count": 230,
   "id": "d37ae0da-ad83-45e0-84ea-67e48d756fa7",
   "metadata": {},
   "outputs": [],
   "source": [
    "# Now we try to understand the toric code example given by PyMatching\n",
    "# import numpy as np\n",
    "# import matplotlib.pyplot as plt\n",
    "from scipy.sparse import hstack, kron, eye, csc_matrix, block_diag\n",
    "\n",
    "\n",
    "def repetition_code(n):\n",
    "    \"\"\"\n",
    "    Parity check matrix of a repetition code with length n.\n",
    "    \"\"\"\n",
    "    row_ind, col_ind = zip(*((i, j) for i in range(n) for j in (i, (i+1)%n)))\n",
    "    data = np.ones(2*n, dtype=np.uint8)\n",
    "    return csc_matrix((data, (row_ind, col_ind)))\n",
    "\n",
    "\n",
    "def toric_code_x_stabilisers(L):\n",
    "    \"\"\"\n",
    "    Sparse check matrix for the X stabilisers of a toric code with\n",
    "    lattice size L, constructed as the hypergraph product of\n",
    "    two repetition codes.\n",
    "    \"\"\"\n",
    "    Hr = repetition_code(L)\n",
    "    H = hstack(\n",
    "            [kron(Hr, eye(Hr.shape[1])), kron(eye(Hr.shape[0]), Hr.T)],\n",
    "            dtype=np.uint8\n",
    "        )\n",
    "    H.data = H.data % 2\n",
    "    H.eliminate_zeros()\n",
    "    return csc_matrix(H)\n",
    "\n",
    "def toric_code_x_logicals(L):\n",
    "    \"\"\"\n",
    "    Sparse binary matrix with each row corresponding to an X logical operator\n",
    "    of a toric code with lattice size L. Constructed from the\n",
    "    homology groups of the repetition codes using the Kunneth\n",
    "    theorem.\n",
    "    \"\"\"\n",
    "    H1 = csc_matrix(([1], ([0],[0])), shape=(1,L), dtype=np.uint8)\n",
    "    H0 = csc_matrix(np.ones((1, L), dtype=np.uint8))\n",
    "    x_logicals = block_diag([kron(H1, H0), kron(H0, H1)])\n",
    "    x_logicals.data = x_logicals.data % 2\n",
    "    x_logicals.eliminate_zeros()\n",
    "    return csc_matrix(x_logicals)\n",
    "\n",
    "#Here, the weights being the LLR is because we hope to tell the MWPM algorithm that whether it should\n",
    "#keep the shorter path or the longer path. When p is small, log(1-p/p)>0, the error happens with small\n",
    "#probability and the shorter path it good. when p is large, the case is opposite, so it should keep the \n",
    "#longer path\n",
    "\n",
    "#The prediction gives the predicted Z operators (to correct the error), and the logicals@prediction evaluates \n",
    "#the overlaps between the logical X's and the predicted Z operators. If a failure happens, the predicted Z\n",
    "#differs the true Z by some logical Z (crossing logical X's), so we will get different result compared to logicals@noise.\n",
    "\n",
    "def num_decoding_failures_via_physical_frame_changes(H, logicals, error_probability, num_shots):\n",
    "    matching = Matching.from_check_matrix(H, weights=np.log((1-error_probability)/error_probability))\n",
    "    num_errors = 0\n",
    "    for i in range(num_shots):\n",
    "        noise = (np.random.random(H.shape[1]) < error_probability).astype(np.uint8)\n",
    "        syndrome = H@noise % 2\n",
    "        prediction = matching.decode(syndrome)\n",
    "        predicted_logicals_flipped = logicals@prediction % 2\n",
    "        actual_logicals_flipped = logicals@noise % 2\n",
    "        if not np.array_equal(predicted_logicals_flipped, actual_logicals_flipped):\n",
    "            num_errors += 1\n",
    "    return num_errors\n",
    "\n",
    "def num_decoding_failures(H, logicals, p, num_shots):\n",
    "    matching = Matching.from_check_matrix(H, weights=np.log((1-p)/p), faults_matrix=logicals)\n",
    "    num_errors = 0\n",
    "    for i in range(num_shots):\n",
    "        noise = (np.random.random(H.shape[1]) < p).astype(np.uint8)\n",
    "        syndrome = H@noise % 2\n",
    "        predicted_logicals_flipped = matching.decode(syndrome)\n",
    "        actual_logicals_flipped = logicals@noise % 2\n",
    "        if not np.array_equal(predicted_logicals_flipped, actual_logicals_flipped):\n",
    "            num_errors += 1\n",
    "    return num_errors\n",
    "\n",
    "def num_decoding_failures_vectorised(H, logicals, error_probability, num_shots):\n",
    "    matching = Matching.from_check_matrix(H, weights=np.log((1-p)/p), faults_matrix=logicals)\n",
    "    noise = (np.random.random((num_shots, H.shape[1])) < error_probability).astype(np.uint8)\n",
    "    shots = (noise @ H.T) % 2\n",
    "    actual_observables = (noise @ logicals.T) % 2\n",
    "    predicted_observables = matching.decode_batch(shots)\n",
    "    num_errors = np.sum(np.any(predicted_observables != actual_observables, axis=1))\n",
    "    return num_errors"
   ]
  },
  {
   "cell_type": "code",
   "execution_count": 231,
   "id": "e3bc07bf-a023-4b06-8774-ad806dcc50bd",
   "metadata": {},
   "outputs": [
    {
     "name": "stdout",
     "output_type": "stream",
     "text": [
      "[[1 1 0]\n",
      " [0 1 1]\n",
      " [1 0 1]]\n"
     ]
    }
   ],
   "source": [
    "#Here we do some basic check, for example the repetition code is the same by the two methods\n",
    "print(repetition_code(3).toarray())"
   ]
  },
  {
   "cell_type": "code",
   "execution_count": 232,
   "id": "82250965-5a29-4e0f-ae98-cd03eda1bf7e",
   "metadata": {},
   "outputs": [
    {
     "name": "stdout",
     "output_type": "stream",
     "text": [
      "[[1 0 0 1 0 0 0 0 0 1 0 1 0 0 0 0 0 0]\n",
      " [0 1 0 0 1 0 0 0 0 1 1 0 0 0 0 0 0 0]\n",
      " [0 0 1 0 0 1 0 0 0 0 1 1 0 0 0 0 0 0]\n",
      " [0 0 0 1 0 0 1 0 0 0 0 0 1 0 1 0 0 0]\n",
      " [0 0 0 0 1 0 0 1 0 0 0 0 1 1 0 0 0 0]\n",
      " [0 0 0 0 0 1 0 0 1 0 0 0 0 1 1 0 0 0]\n",
      " [1 0 0 0 0 0 1 0 0 0 0 0 0 0 0 1 0 1]\n",
      " [0 1 0 0 0 0 0 1 0 0 0 0 0 0 0 1 1 0]\n",
      " [0 0 1 0 0 0 0 0 1 0 0 0 0 0 0 0 1 1]]\n"
     ]
    }
   ],
   "source": [
    "#The HX from hypergraph product, which is the same as the construction before\n",
    "#print(toric_code_x_stabilisers(3).toarray())\n",
    "print(toric_code.hx)"
   ]
  },
  {
   "cell_type": "code",
   "execution_count": 233,
   "id": "1e5bfa57-205f-465a-a58b-22fd7a6659ef",
   "metadata": {},
   "outputs": [
    {
     "data": {
      "text/plain": [
       "array([[1, 1, 1, 0, 0, 0, 0, 0, 0, 0, 0, 0, 0, 0, 0, 0, 0, 0],\n",
       "       [0, 0, 0, 0, 0, 0, 0, 0, 0, 1, 0, 0, 1, 0, 0, 1, 0, 0]],\n",
       "      dtype=uint8)"
      ]
     },
     "execution_count": 233,
     "metadata": {},
     "output_type": "execute_result"
    }
   ],
   "source": [
    "toric_code_x_logicals(3).toarray()"
   ]
  },
  {
   "cell_type": "code",
   "execution_count": 234,
   "id": "73dfc070-41a3-4288-bf67-e14d5be1aa3f",
   "metadata": {},
   "outputs": [
    {
     "data": {
      "text/plain": [
       "array([[0, 0, 0, 0, 0, 0, 1, 1, 1, 0, 0, 0, 0, 0, 0, 0, 0, 0],\n",
       "       [0, 0, 0, 0, 0, 0, 0, 0, 0, 1, 0, 0, 1, 0, 0, 1, 0, 0]])"
      ]
     },
     "execution_count": 234,
     "metadata": {},
     "output_type": "execute_result"
    }
   ],
   "source": [
    "toric_code.lx"
   ]
  },
  {
   "cell_type": "code",
   "execution_count": 235,
   "id": "77a6d876-7f40-47b6-a941-ac417067aebd",
   "metadata": {},
   "outputs": [
    {
     "data": {
      "text/plain": [
       "array([1, 1, 1, 0, 0, 0, 0, 0, 0, 0, 0, 0, 0, 0, 0, 0, 0, 0])"
      ]
     },
     "execution_count": 235,
     "metadata": {},
     "output_type": "execute_result"
    }
   ],
   "source": [
    "# We can see these two definitions are indeed homologically equivalent as we can see\n",
    "(toric_code.hx[6]+toric_code.hx[7]+toric_code.hx[8]+toric_code.lx[0])%2"
   ]
  },
  {
   "cell_type": "markdown",
   "id": "6ecfbde8-ab23-4554-b06e-cff1fa156c7e",
   "metadata": {},
   "source": [
    "We consider the example of toric code MWPM in https://pymatching.readthedocs.io/en/stable/toric-code-example.html"
   ]
  },
  {
   "cell_type": "code",
   "execution_count": 236,
   "id": "92b31d2c-d845-4cd2-9fcf-f0336190d6d1",
   "metadata": {},
   "outputs": [
    {
     "name": "stdout",
     "output_type": "stream",
     "text": [
      "Simulating L=4...\n",
      "Simulating L=8...\n",
      "Simulating L=12...\n",
      "CPU times: user 1.57 s, sys: 8.04 ms, total: 1.58 s\n",
      "Wall time: 1.58 s\n"
     ]
    }
   ],
   "source": [
    "%%time\n",
    "\n",
    "num_shots = 5000\n",
    "Ls = range(4,14,4)\n",
    "ps = np.linspace(0.01, 0.2, 9)\n",
    "np.random.seed(2)\n",
    "log_errors_all_L = []\n",
    "for L in Ls:\n",
    "    print(\"Simulating L={}...\".format(L))\n",
    "    Hx = toric_code_x_stabilisers(L)\n",
    "    logX = toric_code_x_logicals(L)\n",
    "    log_errors = []\n",
    "    for p in ps:\n",
    "        num_errors = num_decoding_failures_vectorised(Hx, logX, p, num_shots)\n",
    "        log_errors.append(num_errors/num_shots)\n",
    "    log_errors_all_L.append(np.array(log_errors))"
   ]
  },
  {
   "cell_type": "code",
   "execution_count": 237,
   "id": "8656c5e1-a8cd-46b7-9651-94856a52cb29",
   "metadata": {},
   "outputs": [
    {
     "data": {
      "image/png": "[encoded data removed]",
      "text/plain": [
       "<Figure size 432x288 with 1 Axes>"
      ]
     },
     "metadata": {
      "needs_background": "light"
     },
     "output_type": "display_data"
    }
   ],
   "source": [
    "%matplotlib inline\n",
    "\n",
    "plt.figure()\n",
    "for L, logical_errors in zip(Ls, log_errors_all_L):\n",
    "    std_err = (logical_errors*(1-logical_errors)/num_shots)**0.5\n",
    "    plt.errorbar(ps, logical_errors, yerr=std_err, label=\"L={}\".format(L))\n",
    "plt.xlabel(\"Physical error rate\")\n",
    "plt.ylabel(\"Logical error rate\")\n",
    "plt.legend(loc=0);"
   ]
  },
  {
   "cell_type": "markdown",
   "id": "41610db6-5564-480d-9bf1-06f5b0520890",
   "metadata": {},
   "source": [
    "We will see the ldpc methods give the same result as pymatching"
   ]
  },
  {
   "cell_type": "code",
   "execution_count": 238,
   "id": "eade542c-8c63-47f8-bc38-48368ce1950d",
   "metadata": {},
   "outputs": [
    {
     "name": "stdout",
     "output_type": "stream",
     "text": [
      "Simulating L=4...\n",
      "Simulating L=8...\n",
      "Simulating L=12...\n",
      "CPU times: user 2.69 s, sys: 13.3 ms, total: 2.71 s\n",
      "Wall time: 2.7 s\n"
     ]
    }
   ],
   "source": [
    "%%time\n",
    "\n",
    "num_shots = 5000\n",
    "Ls = range(4,14,4)\n",
    "ps = np.linspace(0.01, 0.2, 9)\n",
    "np.random.seed(2)\n",
    "log_errors_all_L = []\n",
    "for L in Ls:\n",
    "    print(\"Simulating L={}...\".format(L))\n",
    "    toric_code_temp = hgp(ring_code(L), ring_code(L), compute_distance=True)\n",
    "    Hx = toric_code_temp.hx\n",
    "    logX = toric_code_temp.lx\n",
    "    log_errors = []\n",
    "    for p in ps:\n",
    "        num_errors = num_decoding_failures_vectorised(Hx, logX, p, num_shots)\n",
    "        log_errors.append(num_errors/num_shots)\n",
    "    log_errors_all_L.append(np.array(log_errors))"
   ]
  },
  {
   "cell_type": "code",
   "execution_count": 239,
   "id": "e8f08f4d-f2fd-406b-9b4f-bfe67c17abb0",
   "metadata": {},
   "outputs": [
    {
     "data": {
      "image/png": "[encoded data removed]",
      "text/plain": [
       "<Figure size 432x288 with 1 Axes>"
      ]
     },
     "metadata": {
      "needs_background": "light"
     },
     "output_type": "display_data"
    }
   ],
   "source": [
    "%matplotlib inline\n",
    "\n",
    "plt.figure()\n",
    "for L, logical_errors in zip(Ls, log_errors_all_L):\n",
    "    std_err = (logical_errors*(1-logical_errors)/num_shots)**0.5\n",
    "    plt.errorbar(ps, logical_errors, yerr=std_err, label=\"L={}\".format(L))\n",
    "plt.xlabel(\"Physical error rate\")\n",
    "plt.ylabel(\"Logical error rate\")\n",
    "plt.legend(loc=0);"
   ]
  },
  {
   "cell_type": "code",
   "execution_count": null,
   "id": "cba4fdf5-3b4c-4fb6-bb0e-3890709fa56a",
   "metadata": {},
   "outputs": [],
   "source": []
  }
 ],
 "metadata": {
  "kernelspec": {
   "display_name": "Python 3 (ipykernel)",
   "language": "python",
   "name": "python3"
  },
  "language_info": {
   "codemirror_mode": {
    "name": "ipython",
    "version": 3
   },
   "file_extension": ".py",
   "mimetype": "text/x-python",
   "name": "python",
   "nbconvert_exporter": "python",
   "pygments_lexer": "ipython3",
   "version": "3.8.8"
  }
 },
 "nbformat": 4,
 "nbformat_minor": 5
}
